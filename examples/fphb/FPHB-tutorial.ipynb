{
 "cells": [
  {
   "cell_type": "code",
   "execution_count": 1,
   "metadata": {},
   "outputs": [],
   "source": [
    "import numpy as np\n",
    "import matplotlib.pyplot as plt\n",
    "import matplotlib.pylab as pylab\n",
    "import matplotlib.cm as cm\n",
    "%matplotlib inline\n",
    "import scipy.misc\n",
    "from PIL import Image\n",
    "import scipy.io\n",
    "import os\n",
    "\n",
    "\n",
    "# Make sure that caffe is on the python path:\n",
    "caffe_root = '../../'  # this file is expected to be in {caffe_root}/examples/hed/\n",
    "import sys\n",
    "sys.path.insert(0, caffe_root + 'python')\n",
    "\n",
    "import caffe"
   ]
  },
  {
   "cell_type": "code",
   "execution_count": 20,
   "metadata": {},
   "outputs": [],
   "source": [
    "data_root ='../../data/crack/'\n",
    "with open(data_root+'val.txt') as f:\n",
    "    test_lst = f.readlines()\n",
    "test_lst = [data_root+x.split(' ')[0] for x in test_lst]"
   ]
  },
  {
   "cell_type": "code",
   "execution_count": 21,
   "metadata": {},
   "outputs": [
    {
     "data": {
      "text/plain": [
       "['/media/fan/dv2/backup/fan_part1/fan/data/data1extra/crack/valcrop/20160222_080850_1281_361.jpg',\n",
       " '/media/fan/dv2/backup/fan_part1/fan/data/data1extra/crack/valcrop/20160222_080850_1281_721.jpg',\n",
       " '/media/fan/dv2/backup/fan_part1/fan/data/data1extra/crack/valcrop/IMG_2942_1_485.jpg',\n",
       " '/media/fan/dv2/backup/fan_part1/fan/data/data1extra/crack/valcrop/IMG_2942_649_485.jpg']"
      ]
     },
     "execution_count": 21,
     "metadata": {},
     "output_type": "execute_result"
    }
   ],
   "source": [
    "test_lst"
   ]
  },
  {
   "cell_type": "code",
   "execution_count": 23,
   "metadata": {},
   "outputs": [],
   "source": [
    "im_lst = []\n",
    "for i in range(0, len(test_lst)):\n",
    "    im = Image.open(test_lst[i])\n",
    "    in_ = np.array(im, dtype=np.float32)\n",
    "    in_ = in_[:,:,::-1]\n",
    "    #in_ -= np.array((104.00698793,116.66876762,122.67891434))\n",
    "    in_ -= np.array((127.00699,126.66877,126.67892))\n",
    "    im_lst.append(in_)"
   ]
  },
  {
   "cell_type": "code",
   "execution_count": 24,
   "metadata": {},
   "outputs": [
    {
     "data": {
      "text/plain": [
       "[array([[[ -77.00699,  -76.66877,  -60.67892],\n",
       "         [ -75.00699,  -74.66877,  -58.67892],\n",
       "         [ -80.00699,  -79.66877,  -65.67892],\n",
       "         ...,\n",
       "        [[ 6.099301e+01,  5.633123e+01,  5.832108e+01],\n",
       "         [ 4.799301e+01,  4.133123e+01,  4.432108e+01],\n",
       "         [ 6.499301e+01,  5.833123e+01,  6.132108e+01],\n",
       "         ...,\n",
       "         [-4.900699e+01, -6.066877e+01, -7.267892e+01],\n",
       "         [-5.100699e+01, -5.966877e+01, -7.267892e+01],\n",
       "         [-5.400699e+01, -6.266877e+01, -7.567892e+01]]], dtype=float32)]"
      ]
     },
     "execution_count": 24,
     "metadata": {},
     "output_type": "execute_result"
    }
   ],
   "source": [
    "im_lst"
   ]
  },
  {
   "cell_type": "code",
   "execution_count": 25,
   "metadata": {},
   "outputs": [],
   "source": [
    "#Visualization\n",
    "def plot_single_scale(scale_lst, size):\n",
    "    pylab.rcParams['figure.figsize'] = size, size/2\n",
    "    \n",
    "    plt.figure()\n",
    "    for i in range(0, len(scale_lst)):\n",
    "        s=plt.subplot(1,5,i+1)\n",
    "        plt.imshow(1-scale_lst[i], cmap = cm.Greys_r)\n",
    "        s.set_xticklabels([])\n",
    "        s.set_yticklabels([])\n",
    "        s.yaxis.set_ticks_position('none')\n",
    "        s.xaxis.set_ticks_position('none')\n",
    "    plt.tight_layout()"
   ]
  },
  {
   "cell_type": "code",
   "execution_count": 27,
   "metadata": {},
   "outputs": [
    {
     "data": {
      "image/png": "[encoded data removed]",
      "text/plain": [
       "<Figure size 1584x792 with 1 Axes>"
      ]
     },
     "metadata": {
      "needs_background": "light"
     },
     "output_type": "display_data"
    },
    {
     "data": {
      "image/png": "[encoded data removed]",
      "text/plain": [
       "<Figure size 720x360 with 5 Axes>"
      ]
     },
     "metadata": {
      "needs_background": "light"
     },
     "output_type": "display_data"
    }
   ],
   "source": [
    "idx = 1\n",
    "\n",
    "in_ = im_lst[idx]\n",
    "in_ = in_.transpose((2,0,1))\n",
    "#remove the following two lines if testing with cpu\n",
    "caffe.set_mode_gpu()\n",
    "caffe.set_device(0)\n",
    "# load net\n",
    "model_root = './'\n",
    "net = caffe.Net(model_root+'test_fphb_crack.prototxt', model_root+'fphb_crack.caffemodel', caffe.TEST)\n",
    "# shape for input (data blob is N x C x H x W), set data\n",
    "net.blobs['data'].reshape(1, *in_.shape)\n",
    "net.blobs['data'].data[...] = in_\n",
    "# run net and take argmax for prediction\n",
    "net.forward()\n",
    "out1 = net.blobs['sigmoid-dsn1'].data[0][0,:,:]\n",
    "out2 = net.blobs['sigmoid-dsn2'].data[0][0,:,:]\n",
    "out3 = net.blobs['sigmoid-dsn3'].data[0][0,:,:]\n",
    "out4 = net.blobs['sigmoid-dsn4'].data[0][0,:,:]\n",
    "out5 = net.blobs['sigmoid-dsn5'].data[0][0,:,:]\n",
    "fuse = net.blobs['sigmoid-fuse'].data[0][0,:,:]\n",
    "\n",
    "scale_lst = [fuse]\n",
    "plot_single_scale(scale_lst, 22)\n",
    "scale_lst = [out1, out2, out3, out4, out5]\n",
    "plot_single_scale(scale_lst, 10)"
   ]
  },
  {
   "cell_type": "code",
   "execution_count": null,
   "metadata": {
    "collapsed": true
   },
   "outputs": [],
   "source": []
  }
 ],
 "metadata": {
  "kernelspec": {
   "display_name": "Python 2",
   "language": "python",
   "name": "python2"
  },
  "language_info": {
   "codemirror_mode": {
    "name": "ipython",
    "version": 2
   },
   "file_extension": ".py",
   "mimetype": "text/x-python",
   "name": "python",
   "nbconvert_exporter": "python",
   "pygments_lexer": "ipython2",
   "version": "2.7.12"
  }
 },
 "nbformat": 4,
 "nbformat_minor": 1
}
